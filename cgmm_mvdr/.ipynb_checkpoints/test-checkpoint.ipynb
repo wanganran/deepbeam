{
 "cells": [
  {
   "cell_type": "code",
   "execution_count": null,
   "metadata": {},
   "outputs": [],
   "source": [
    "beamformer_online_conf = {'sr': 48000,   # sample rate\n",
    "                   'ban': False,\n",
    "                   'vad_proportion': 1,  # Energy proportion to filter silence masks [0.5, 1]\n",
    "                   'alpha': 0.8,  # Online Remember coefficient when updating covariance matrix\n",
    "                   'chunk_size': 50,\n",
    "                   'channels': 6,  # Number of channels available\n",
    "                   'mask_alpha': False,\n",
    "                   'num_iters': 10,\n",
    "                   'solve_permu': False  # If true, solving permutation problems\n",
    "                   }\n"
   ]
  }
 ],
 "metadata": {
  "kernelspec": {
   "display_name": "Python 3",
   "language": "python",
   "name": "python3"
  },
  "language_info": {
   "codemirror_mode": {
    "name": "ipython",
    "version": 3
   },
   "file_extension": ".py",
   "mimetype": "text/x-python",
   "name": "python",
   "nbconvert_exporter": "python",
   "pygments_lexer": "ipython3",
   "version": "3.8.5"
  }
 },
 "nbformat": 4,
 "nbformat_minor": 4
}
